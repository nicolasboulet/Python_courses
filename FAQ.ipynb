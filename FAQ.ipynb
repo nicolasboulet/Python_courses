{
 "cells": [
  {
   "cell_type": "markdown",
   "metadata": {},
   "source": [
    "# Foire aux questions"
   ]
  },
  {
   "cell_type": "markdown",
   "metadata": {},
   "source": [
    "1. Où puis-je trouver les blocs-notes Jupyter du cours?\n",
    "\n",
    "Vous pouvez les trouver ici."
   ]
  },
  {
   "cell_type": "markdown",
   "metadata": {},
   "source": [
    "2. Comment puis-je télécharger les blocs-notes?\n",
    "\n",
    "Cliquez sur le bouton de téléchargement en haut à droite de la page nbviewer. Sinon, pour télécharger tout à la fois, vous pouvez accéder à la page GitHub ici, puis cliquer sur le bouton de téléchargement pour télécharger tous les fichiers du portable (.ipynb) sur votre ordinateur (comprimé sous forme de fichier zip, vous devez le décompresser)."
   ]
  },
  {
   "cell_type": "markdown",
   "metadata": {
    "collapsed": true
   },
   "source": [
    "3. Comment puis-je savoir où sont enregistrés mes blocs-notes  ?\n",
    "\n",
    "Pour connaitre le dossier dans lequel un bloc-note est enregistré, il suffit de taper la commande : pwd dans une cellule. Cela va afficher votre répertoire de travail."
   ]
  },
  {
   "cell_type": "markdown",
   "metadata": {},
   "source": [
    "4. Comment puis-je modifier l'emplacement où les blocs-notes sont enregistrés?\n",
    "\n",
    "Vous devez pour cela changer le répertoire dans lequel vous démarrez Jupyter. Utilisez cd dans le terminal ou à l'invite de commandes pour passer au répertoire souhaité."
   ]
  },
  {
   "cell_type": "markdown",
   "metadata": {},
   "source": [
    "5. Comment puis-je ouvrir des fichiers .ipynb? Quel programme dois-je choisir?\n",
    "\n",
    "Les fichiers avec pour extension .jpynb sont des fichiers de bloc-notes Jupyter, pour pouvoir les ouvrir vous devez avoir installé Python et le système Jupyter. \n",
    "Consultez la leçon sur la préparation de votre environnement de travail pour plus de détails sur l'installation de Python et du système Jupyter. Une fois que vous avez Python et le système Jupyter installé vous êtes prêt à ouvrir les blocs-notes en procédant comme ci dessous :\n",
    "\n",
    "  1. Ouvrez d'abord votre Invite de commande (cmd sur une machine Windows, le terminal sur Mac ou Linux).\n",
    "  2. Ensuite dans votre terminal / invite de commande tapez pwd et appuyez sur Entrée (cela va afficher votre répertoire de travail)\n",
    "  3. Prenez note de ce répertoire, c'est à cet endroit que vous devez enregistrer vos fichiers .ipynb (ou le dossier contenant vos fichiers .ipynb)\n",
    "  4. Une fois que vos fichiers ipynb ou le dossier contenant ces fichiers est dans l'emplacement affiché à partir de l'étape pwd, retournez à votre terminal et tapez Jupyter notebook et appuyez sur Entrée.\n",
    "  5. Après l'étape 4, vous devriez avoir un onglet de votre navigateur ouvert avec la racine des fichiers du système Jupyter présenté à l'intérieur de celui-ci.\n",
    "  6. Cliquez sur votre bloc-notes (ou allez dans votre dossier de blocs-notes) affiché dans l’onglet du navigateur et celui-ci s'ouvrira dans un nouvel onglet avec ce bloc-notes que vous avez sélectionné.\n",
    "  7. Vous devriez maintenant pouvoir ouvrir les fichiers blocs-notes sans difficulté.\n"
   ]
  },
  {
   "cell_type": "markdown",
   "metadata": {},
   "source": [
    "6. Comment afficher les conseils? Comment afficher  les « DocStrings » pour les fonctions? etc...\n",
    "\n",
    "Vous pouvez utiliser Shift + Tab quand vous positionnez le curseur après un objet ou une fonction pour que iPython révèle la chaîne de caractères ou plus d'informations."
   ]
  },
  {
   "cell_type": "markdown",
   "metadata": {},
   "source": [
    "7. Comment utiliser l’auto-complétion ?\n",
    "\n",
    "Vous pouvez utiliser la touche de tabulation pour taper automatiquement le nom des méthodes, des objets ou des fonctions. Si plusieurs options sont disponibles, elles s’affichent et vous pourrez choisir celle que vous retenez."
   ]
  },
  {
   "cell_type": "code",
   "execution_count": null,
   "metadata": {
    "collapsed": true
   },
   "outputs": [],
   "source": []
  }
 ],
 "metadata": {
  "anaconda-cloud": {},
  "kernelspec": {
   "display_name": "Python [default]",
   "language": "python",
   "name": "python3"
  },
  "language_info": {
   "codemirror_mode": {
    "name": "ipython",
    "version": 3
   },
   "file_extension": ".py",
   "mimetype": "text/x-python",
   "name": "python",
   "nbconvert_exporter": "python",
   "pygments_lexer": "ipython3",
   "version": "3.5.2"
  }
 },
 "nbformat": 4,
 "nbformat_minor": 0
}
