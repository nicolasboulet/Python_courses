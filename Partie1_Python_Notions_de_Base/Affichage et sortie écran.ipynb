{
 "cells": [
  {
   "cell_type": "markdown",
   "metadata": {},
   "source": [
    "# Affichage et sortie écran (print)\n",
    "\n",
    "Dans cette section nous allons brièvement voir les différentes façons de présenter les sorties écran ou plus simplement l'affichage.\n",
    "\n",
    "Comme vous avancer dans la pratique de la programmation, vous allez sans doute être à la recherche d'avoir des sorties pour afficher le contenu de variables, numériques entre autres.\n",
    "\n",
    "L'exemple le plus simple de sortie \"print\" est le suivant :"
   ]
  },
  {
   "cell_type": "code",
   "execution_count": 2,
   "metadata": {
    "collapsed": false
   },
   "outputs": [
    {
     "name": "stdout",
     "output_type": "stream",
     "text": [
      "Ceci est une chaine de caractères\n"
     ]
    }
   ],
   "source": [
    "print('Ceci est une chaine de caractères')"
   ]
  },
  {
   "cell_type": "markdown",
   "metadata": {},
   "source": [
    "## Les chaines de caractères (strings)\n",
    "Vous pouvez utiliser la directive %s pour formatter les chaines à l'intérieur d'une commande de sortie (print).\n",
    "\n",
    "Notez que l'ont peut utiliser double ou simple guillemets pour assigner une chaine. Le double guillemet permet d'utiliser le simple à l'intérieur de la chaine sans générer d'erreur."
   ]
  },
  {
   "cell_type": "code",
   "execution_count": 3,
   "metadata": {
    "collapsed": false
   },
   "outputs": [
    {
     "name": "stdout",
     "output_type": "stream",
     "text": [
      "Insérer une chaine à partir d'une variable: CHAINE\n"
     ]
    }
   ],
   "source": [
    "c = 'CHAINE'\n",
    "print (\"Insérer une chaine à partir d'une variable: %s\" %(c))"
   ]
  },
  {
   "cell_type": "markdown",
   "metadata": {},
   "source": [
    "## Nombres réels, virgule flottante (floating Point)\n",
    "\n",
    "Les nombres de type float utilisent le format %n1.n2f pour lequel n1 représente le nombre minimum de chiffres à représenter (substitués par des espaces si le nombre est plus petit) et n2 représente le nombre de chiffres à afficher après la virgule.\n",
    "\n",
    "Voyons quelques exemples :"
   ]
  },
  {
   "cell_type": "code",
   "execution_count": 4,
   "metadata": {
    "collapsed": false
   },
   "outputs": [
    {
     "name": "stdout",
     "output_type": "stream",
     "text": [
      "Nombre à virgule flottante : 13.14\n"
     ]
    }
   ],
   "source": [
    "print('Nombre à virgule flottante : %1.2f' %(13.144))"
   ]
  },
  {
   "cell_type": "code",
   "execution_count": 5,
   "metadata": {
    "collapsed": false
   },
   "outputs": [
    {
     "name": "stdout",
     "output_type": "stream",
     "text": [
      "Nombre à virgule flottante : 13\n"
     ]
    }
   ],
   "source": [
    "print('Nombre à virgule flottante : %1.0f' %(13.144))"
   ]
  },
  {
   "cell_type": "code",
   "execution_count": 6,
   "metadata": {
    "collapsed": false
   },
   "outputs": [
    {
     "name": "stdout",
     "output_type": "stream",
     "text": [
      "Nombre à virgule flottante : 13.14400\n"
     ]
    }
   ],
   "source": [
    "print('Nombre à virgule flottante : %1.5f' %(13.144))"
   ]
  },
  {
   "cell_type": "code",
   "execution_count": 7,
   "metadata": {
    "collapsed": false
   },
   "outputs": [
    {
     "name": "stdout",
     "output_type": "stream",
     "text": [
      "Nombre à virgule flottante :      13.14\n"
     ]
    }
   ],
   "source": [
    "print('Nombre à virgule flottante : %10.2f' %(13.144))"
   ]
  },
  {
   "cell_type": "code",
   "execution_count": 9,
   "metadata": {
    "collapsed": false
   },
   "outputs": [
    {
     "name": "stdout",
     "output_type": "stream",
     "text": [
      "Nombre à virgule flottante :                     13.14\n"
     ]
    }
   ],
   "source": [
    "print('Nombre à virgule flottante : %25.2f' %(13.144))"
   ]
  },
  {
   "cell_type": "markdown",
   "metadata": {},
   "source": [
    "## Conversion de format\n",
    "\n",
    "Il faut noter que les deux méthodes %s et %r convertiront tout objet Python en chaine de caractères (string) en utilisant chacune une métode différente : str() et repr() respectivement.\n",
    "\n",
    "Nous en verrons plus à propos de ces fonctions par la suite, mais vous pourrez noter que vous pouvez passer à peu près n'importe quel objet à ses méthodes et qu'elles s'en accomoderont :"
   ]
  },
  {
   "cell_type": "code",
   "execution_count": 10,
   "metadata": {
    "collapsed": false
   },
   "outputs": [
    {
     "name": "stdout",
     "output_type": "stream",
     "text": [
      "Voici un nombre : 123.1. Voici une chaine : hi\n"
     ]
    }
   ],
   "source": [
    "print('Voici un nombre : %s. Voici une chaine : %s' %(123.1,'hi'))"
   ]
  },
  {
   "cell_type": "code",
   "execution_count": 11,
   "metadata": {
    "collapsed": false
   },
   "outputs": [
    {
     "name": "stdout",
     "output_type": "stream",
     "text": [
      "Voici un nombre : 123.1. Voici une chaine : 'hi'\n"
     ]
    }
   ],
   "source": [
    "print('Voici un nombre : %r. Voici une chaine : %r' %(123.1,'hi'))"
   ]
  },
  {
   "cell_type": "markdown",
   "metadata": {},
   "source": [
    "## Formats multiples\n",
    "Il est possible de transmettre plusieurs formats dans le même print.\n"
   ]
  },
  {
   "cell_type": "code",
   "execution_count": 12,
   "metadata": {
    "collapsed": false
   },
   "outputs": [
    {
     "name": "stdout",
     "output_type": "stream",
     "text": [
      "Premier : hi!, Deuxième : 3.14, Troisième : 22\n"
     ]
    }
   ],
   "source": [
    "print('Premier : %s, Deuxième : %1.2f, Troisième : %r' %('bonjour !',3.14,22))"
   ]
  },
  {
   "cell_type": "markdown",
   "metadata": {},
   "source": [
    "# Utilisation de la méthode string .format()\n",
    "\n",
    "La façon la plus efficace de présenter des objets dans les chaines de caractères de sortie de print est d'utiliser la méthode format.\n",
    "\n",
    "Voici la syntaxe :\n",
    "\n",
    "    'Ici une chaine {var1} puis aussi {var2}'.format(var1='quelquechose',var2='autrechose')\n",
    "    \n",
    "Voyons quelques exemples :"
   ]
  },
  {
   "cell_type": "code",
   "execution_count": 14,
   "metadata": {
    "collapsed": false
   },
   "outputs": [
    {
     "name": "stdout",
     "output_type": "stream",
     "text": [
      "Voici une chaine avec un élement inséré\n"
     ]
    }
   ],
   "source": [
    "print ('Voici une chaine avec un élement {p}'.format(p='inséré'))"
   ]
  },
  {
   "cell_type": "code",
   "execution_count": 15,
   "metadata": {
    "collapsed": false
   },
   "outputs": [
    {
     "name": "stdout",
     "output_type": "stream",
     "text": [
      "Un: Salut !, Deux: Salut !, Trois: Salut !\n"
     ]
    }
   ],
   "source": [
    "# Plusieurs fois\n",
    "print ('Un: {p}, Deux: {p}, Trois: {p}'.format(p='Salut !'))"
   ]
  },
  {
   "cell_type": "code",
   "execution_count": 16,
   "metadata": {
    "collapsed": false
   },
   "outputs": [
    {
     "name": "stdout",
     "output_type": "stream",
     "text": [
      "Objet 1: 1, Objet 2: deux, Objet 3: 12.3\n"
     ]
    }
   ],
   "source": [
    "# Plusieus objets\n",
    "print ('Objet 1: {a}, Objet 2: {b}, Objet 3: {c}'.format(a=1,b='deux',c=12.3))"
   ]
  },
  {
   "cell_type": "markdown",
   "metadata": {},
   "source": [
    "Voici les bases du formattage et de la présentation de chaines de caractères !"
   ]
  }
 ],
 "metadata": {
  "anaconda-cloud": {},
  "kernelspec": {
   "display_name": "Python [default]",
   "language": "python",
   "name": "python3"
  },
  "language_info": {
   "codemirror_mode": {
    "name": "ipython",
    "version": 3
   },
   "file_extension": ".py",
   "mimetype": "text/x-python",
   "name": "python",
   "nbconvert_exporter": "python",
   "pygments_lexer": "ipython3",
   "version": "3.5.2"
  }
 },
 "nbformat": 4,
 "nbformat_minor": 0
}
